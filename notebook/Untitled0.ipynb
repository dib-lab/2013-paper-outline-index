{
 "metadata": {
  "name": "Untitled0"
 },
 "nbformat": 3,
 "nbformat_minor": 0,
 "worksheets": [
  {
   "cells": [
    {
     "cell_type": "code",
     "collapsed": false,
     "input": [
      "import sys\n",
      "import matplotlib.pyplot as plt"
     ],
     "language": "python",
     "metadata": {},
     "outputs": [],
     "prompt_number": 1
    },
    {
     "cell_type": "code",
     "collapsed": false,
     "input": [
      "!ls"
     ],
     "language": "python",
     "metadata": {},
     "outputs": [
      {
       "output_type": "stream",
       "stream": "stdout",
       "text": [
        "README          Untitled0.ipynb\r\n"
       ]
      }
     ],
     "prompt_number": 2
    },
    {
     "cell_type": "code",
     "collapsed": false,
     "input": [
      "x = []\n",
      "y = []\n",
      "\n",
      "xlab = None\n",
      "ylab = None"
     ],
     "language": "python",
     "metadata": {},
     "outputs": [],
     "prompt_number": 3
    },
    {
     "cell_type": "code",
     "collapsed": false,
     "input": [
      "for line in open(\"../data/reads-nobias.fa.bin.readDist.10\"):\n",
      "    if line[0] == \"#\":\n",
      "        lexemes = line[1:].strip().split()\n",
      "        xlab = lexemes[0]\n",
      "        ylab = lexemes[1]\n",
      "    else:\n",
      "        lexemes = line.strip().split()\n",
      "        if len(lexemes) > 1:\n",
      "            x.append(int(lexemes[0]))\n",
      "            y.append(float(lexemes[1]))"
     ],
     "language": "python",
     "metadata": {},
     "outputs": [],
     "prompt_number": 5
    },
    {
     "cell_type": "code",
     "collapsed": false,
     "input": [
      "print \"Bins: %d\" % max(y)\n",
      "plt.xlabel(ylab)\n",
      "plt.ylabel(\"count\")\n",
      "plt.hist(y, max(y))"
     ],
     "language": "python",
     "metadata": {},
     "outputs": [
      {
       "output_type": "stream",
       "stream": "stdout",
       "text": [
        "Bins: 51\n"
       ]
      },
      {
       "output_type": "pyout",
       "prompt_number": 10,
       "text": [
        "(array([321038,  11698,    328,      9,      1,      2,      1,      2,\n",
        "            1,      7,     18,     47,    122,    239,    467,    810,\n",
        "         1307,   2116,   3056,   4302,   5527,   6901,   8185,   9453,\n",
        "        10406,  10811,  11159,  10894,  10294,   9449,   8494,   7231,\n",
        "         6034,   4726,   3822,   2744,   2099,   1554,   1104,    780,\n",
        "          535,    338,    218,    109,     69,     45,     23,     17,\n",
        "           10,      1,      1]),\n",
        " array([  1.        ,   1.98039216,   2.96078431,   3.94117647,\n",
        "         4.92156863,   5.90196078,   6.88235294,   7.8627451 ,\n",
        "         8.84313725,   9.82352941,  10.80392157,  11.78431373,\n",
        "        12.76470588,  13.74509804,  14.7254902 ,  15.70588235,\n",
        "        16.68627451,  17.66666667,  18.64705882,  19.62745098,\n",
        "        20.60784314,  21.58823529,  22.56862745,  23.54901961,\n",
        "        24.52941176,  25.50980392,  26.49019608,  27.47058824,\n",
        "        28.45098039,  29.43137255,  30.41176471,  31.39215686,\n",
        "        32.37254902,  33.35294118,  34.33333333,  35.31372549,\n",
        "        36.29411765,  37.2745098 ,  38.25490196,  39.23529412,\n",
        "        40.21568627,  41.19607843,  42.17647059,  43.15686275,\n",
        "        44.1372549 ,  45.11764706,  46.09803922,  47.07843137,\n",
        "        48.05882353,  49.03921569,  50.01960784,  51.        ]),\n",
        " <a list of 51 Patch objects>)"
       ]
      },
      {
       "output_type": "display_data",
       "png": "[encoded data removed]"
      }
     ],
     "prompt_number": 10
    },
    {
     "cell_type": "code",
     "collapsed": false,
     "input": [],
     "language": "python",
     "metadata": {},
     "outputs": [],
     "prompt_number": 7
    },
    {
     "cell_type": "code",
     "collapsed": false,
     "input": [],
     "language": "python",
     "metadata": {},
     "outputs": []
    }
   ],
   "metadata": {}
  }
 ]
}